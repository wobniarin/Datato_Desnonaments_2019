{
 "cells": [
  {
   "cell_type": "markdown",
   "metadata": {},
   "source": [
    "# Convocatòries contra desnonaments a Barcelona\n",
    "\n",
    "Aquestes dades estan creuades del grup de telegram DesnonamentsBCN i dels arxius de Stop Desnonaments de la PAH Barcelona. A més de la informació que existeix en els fonts originals, les dades estan enriquides amb coordenades.\n",
    "\n",
    "El fitxer de DesnonamentsBCN té els camps: data, adreça, hora, entitat que convoca, adreça que retorna el servei de geoid, coordenades que venen del servei de geoid\n",
    "\n",
    "El fitxer de PAH Barcelona té els camps: data, adreça, demandant,resolució, hashtag de la campanya, raó (per lloguer, hipoteca etc.), adreça que retorna el servei de geoid, coordenades que venen del servei de geoid. \n",
    "\n",
    "Versió 1.0: Entre 01/02/2018 i 18/10/2019"
   ]
  },
  {
   "cell_type": "code",
   "execution_count": 4,
   "metadata": {},
   "outputs": [],
   "source": [
    "# importing libraries \n",
    "\n",
    "import pandas as pd \n",
    "import matplotlib \n",
    "import matplotlib.pyplot as plt \n",
    "import os\n",
    "import datetime"
   ]
  },
  {
   "cell_type": "code",
   "execution_count": 6,
   "metadata": {},
   "outputs": [
    {
     "data": {
      "text/plain": [
       "'/home/ingrid/Documents/DATATO_FES_DESNONAMENTS'"
      ]
     },
     "execution_count": 6,
     "metadata": {},
     "output_type": "execute_result"
    }
   ],
   "source": [
    "os.getcwd()"
   ]
  },
  {
   "cell_type": "code",
   "execution_count": 8,
   "metadata": {},
   "outputs": [],
   "source": [
    "files = os.listdir()"
   ]
  },
  {
   "cell_type": "code",
   "execution_count": 12,
   "metadata": {},
   "outputs": [
    {
     "data": {
      "text/plain": [
       "['.ipynb_checkpoints',\n",
       " 'desnonamentspahbcn_v1.0.csv',\n",
       " 'desnonamentsbcn_v1.0.csv',\n",
       " 'desnonaments_merged_v1.0.csv',\n",
       " 'Desnonaments_Data_Wrangling.ipynb']"
      ]
     },
     "execution_count": 12,
     "metadata": {},
     "output_type": "execute_result"
    }
   ],
   "source": [
    "files"
   ]
  },
  {
   "cell_type": "markdown",
   "metadata": {},
   "source": [
    "### PAH  `csv` file"
   ]
  },
  {
   "cell_type": "code",
   "execution_count": 16,
   "metadata": {},
   "outputs": [],
   "source": [
    "desn_pah_raw = pd.read_csv(files[1])"
   ]
  },
  {
   "cell_type": "code",
   "execution_count": 17,
   "metadata": {
    "scrolled": true
   },
   "outputs": [
    {
     "data": {
      "text/html": [
       "<div>\n",
       "<style scoped>\n",
       "    .dataframe tbody tr th:only-of-type {\n",
       "        vertical-align: middle;\n",
       "    }\n",
       "\n",
       "    .dataframe tbody tr th {\n",
       "        vertical-align: top;\n",
       "    }\n",
       "\n",
       "    .dataframe thead th {\n",
       "        text-align: right;\n",
       "    }\n",
       "</style>\n",
       "<table border=\"1\" class=\"dataframe\">\n",
       "  <thead>\n",
       "    <tr style=\"text-align: right;\">\n",
       "      <th></th>\n",
       "      <th>data</th>\n",
       "      <th>direccio</th>\n",
       "      <th>direccio geo</th>\n",
       "      <th>demandant</th>\n",
       "      <th>resolucio</th>\n",
       "      <th>hashtag</th>\n",
       "      <th>rao</th>\n",
       "      <th>latitude</th>\n",
       "      <th>longitude</th>\n",
       "    </tr>\n",
       "  </thead>\n",
       "  <tbody>\n",
       "    <tr>\n",
       "      <th>0</th>\n",
       "      <td>26/1/2018</td>\n",
       "      <td>Gran Vía de les Corts Catalanes, 149 – 151, 3º...</td>\n",
       "      <td>Gran Via de les Corts Catalanes, 149, 08014 Ba...</td>\n",
       "      <td>HIPOCAT 7 FTA</td>\n",
       "      <td>SUSPÈS</td>\n",
       "      <td>#BonifacioSeQueda</td>\n",
       "      <td>Desnonaments per hipoteca</td>\n",
       "      <td>41.366264</td>\n",
       "      <td>2.137038</td>\n",
       "    </tr>\n",
       "    <tr>\n",
       "      <th>1</th>\n",
       "      <td>10/1/2018</td>\n",
       "      <td>C/ Sant Crist, 61, entlº 1ª de Barcelona (08018)</td>\n",
       "      <td>Carrer del Sant Crist, 61, 1ª, 08014 Barcelona...</td>\n",
       "      <td>Inmb.</td>\n",
       "      <td>SUSPÈS</td>\n",
       "      <td>#SoluciónParaAmina</td>\n",
       "      <td>Desnonaments per lloguer</td>\n",
       "      <td>41.374316</td>\n",
       "      <td>2.137593</td>\n",
       "    </tr>\n",
       "    <tr>\n",
       "      <th>2</th>\n",
       "      <td>10/1/2018</td>\n",
       "      <td>C/ de París, 146</td>\n",
       "      <td>NaN</td>\n",
       "      <td>Inmb.</td>\n",
       "      <td>DESCONVOCAT</td>\n",
       "      <td>#SoluciónParaWenderson</td>\n",
       "      <td>Desnonaments per lloguer</td>\n",
       "      <td>NaN</td>\n",
       "      <td>NaN</td>\n",
       "    </tr>\n",
       "    <tr>\n",
       "      <th>3</th>\n",
       "      <td>30/1/2018</td>\n",
       "      <td>C/ Sant Antoni dels Sobrerets, 1 de Barcelona ...</td>\n",
       "      <td>Carrer de Sant Antoni dels Sombrerers, 1, 0800...</td>\n",
       "      <td>Inmb.</td>\n",
       "      <td>ATURAT en porta</td>\n",
       "      <td>#SoluciónParaSaadia</td>\n",
       "      <td>Desnonaments per lloguer</td>\n",
       "      <td>41.384087</td>\n",
       "      <td>2.181626</td>\n",
       "    </tr>\n",
       "    <tr>\n",
       "      <th>4</th>\n",
       "      <td>2/2/2018</td>\n",
       "      <td>C/ Joaquim Valls, 119, entlº 1ª de Barcelona (...</td>\n",
       "      <td>Carrer de Joaquim Valls, 119, 1ª, 08042 Barcel...</td>\n",
       "      <td>CATALUNYA BANC, S.A</td>\n",
       "      <td>SUSPES</td>\n",
       "      <td>#PedroSeQueda</td>\n",
       "      <td>Desnonaments per hipoteca</td>\n",
       "      <td>41.444814</td>\n",
       "      <td>2.177667</td>\n",
       "    </tr>\n",
       "  </tbody>\n",
       "</table>\n",
       "</div>"
      ],
      "text/plain": [
       "        data                                           direccio  \\\n",
       "0  26/1/2018  Gran Vía de les Corts Catalanes, 149 – 151, 3º...   \n",
       "1  10/1/2018   C/ Sant Crist, 61, entlº 1ª de Barcelona (08018)   \n",
       "2  10/1/2018                                   C/ de París, 146   \n",
       "3  30/1/2018  C/ Sant Antoni dels Sobrerets, 1 de Barcelona ...   \n",
       "4   2/2/2018  C/ Joaquim Valls, 119, entlº 1ª de Barcelona (...   \n",
       "\n",
       "                                        direccio geo            demandant  \\\n",
       "0  Gran Via de les Corts Catalanes, 149, 08014 Ba...        HIPOCAT 7 FTA   \n",
       "1  Carrer del Sant Crist, 61, 1ª, 08014 Barcelona...                Inmb.   \n",
       "2                                                NaN                Inmb.   \n",
       "3  Carrer de Sant Antoni dels Sombrerers, 1, 0800...                Inmb.   \n",
       "4  Carrer de Joaquim Valls, 119, 1ª, 08042 Barcel...  CATALUNYA BANC, S.A   \n",
       "\n",
       "         resolucio                 hashtag                        rao  \\\n",
       "0           SUSPÈS       #BonifacioSeQueda  Desnonaments per hipoteca   \n",
       "1           SUSPÈS      #SoluciónParaAmina   Desnonaments per lloguer   \n",
       "2      DESCONVOCAT  #SoluciónParaWenderson   Desnonaments per lloguer   \n",
       "3  ATURAT en porta     #SoluciónParaSaadia   Desnonaments per lloguer   \n",
       "4           SUSPES           #PedroSeQueda  Desnonaments per hipoteca   \n",
       "\n",
       "    latitude  longitude  \n",
       "0  41.366264   2.137038  \n",
       "1  41.374316   2.137593  \n",
       "2        NaN        NaN  \n",
       "3  41.384087   2.181626  \n",
       "4  41.444814   2.177667  "
      ]
     },
     "execution_count": 17,
     "metadata": {},
     "output_type": "execute_result"
    }
   ],
   "source": [
    "desn_pah_raw.head()"
   ]
  },
  {
   "cell_type": "code",
   "execution_count": 23,
   "metadata": {},
   "outputs": [
    {
     "data": {
      "text/plain": [
       "(423, 9)"
      ]
     },
     "execution_count": 23,
     "metadata": {},
     "output_type": "execute_result"
    }
   ],
   "source": [
    "desn_pah_raw.shape"
   ]
  },
  {
   "cell_type": "markdown",
   "metadata": {},
   "source": [
    "### DesnonamentsBCN  `csv` file"
   ]
  },
  {
   "cell_type": "code",
   "execution_count": 18,
   "metadata": {},
   "outputs": [],
   "source": [
    "desn_BCN_raw = pd.read_csv(files[2])"
   ]
  },
  {
   "cell_type": "code",
   "execution_count": 19,
   "metadata": {
    "scrolled": true
   },
   "outputs": [
    {
     "data": {
      "text/html": [
       "<div>\n",
       "<style scoped>\n",
       "    .dataframe tbody tr th:only-of-type {\n",
       "        vertical-align: middle;\n",
       "    }\n",
       "\n",
       "    .dataframe tbody tr th {\n",
       "        vertical-align: top;\n",
       "    }\n",
       "\n",
       "    .dataframe thead th {\n",
       "        text-align: right;\n",
       "    }\n",
       "</style>\n",
       "<table border=\"1\" class=\"dataframe\">\n",
       "  <thead>\n",
       "    <tr style=\"text-align: right;\">\n",
       "      <th></th>\n",
       "      <th>Data</th>\n",
       "      <th>Adreça</th>\n",
       "      <th>Adreça geo</th>\n",
       "      <th>Hora</th>\n",
       "      <th>Entitat</th>\n",
       "      <th>Latitude</th>\n",
       "      <th>Longitude</th>\n",
       "    </tr>\n",
       "  </thead>\n",
       "  <tbody>\n",
       "    <tr>\n",
       "      <th>0</th>\n",
       "      <td>01/02/2018</td>\n",
       "      <td>Av. Catalunya 104 – 106 &lt;M&gt; Torrassa</td>\n",
       "      <td>Av. de Catalunya, 104, 08930 Sant Adrià de Bes...</td>\n",
       "      <td>10:30</td>\n",
       "      <td>Grup Habitatge de Sants</td>\n",
       "      <td>41.428520</td>\n",
       "      <td>2.222300</td>\n",
       "    </tr>\n",
       "    <tr>\n",
       "      <th>1</th>\n",
       "      <td>05/02/2018</td>\n",
       "      <td>Carrer del Dr. Giné i Partagàs 53, baixos</td>\n",
       "      <td>Carrer del Dr. Giné i Partagàs, 53, 08003 Barc...</td>\n",
       "      <td>10:00</td>\n",
       "      <td>Comissió de Vivenda de la Barceloneta</td>\n",
       "      <td>41.379854</td>\n",
       "      <td>2.190971</td>\n",
       "    </tr>\n",
       "    <tr>\n",
       "      <th>2</th>\n",
       "      <td>08/02/2018</td>\n",
       "      <td>C/ Roviralta, 15</td>\n",
       "      <td>Carrer de Teodor Roviralta, 15, 08022 Barcelon...</td>\n",
       "      <td>11:30</td>\n",
       "      <td>PAH Gramenet</td>\n",
       "      <td>41.413080</td>\n",
       "      <td>2.133760</td>\n",
       "    </tr>\n",
       "    <tr>\n",
       "      <th>3</th>\n",
       "      <td>15/02/2018</td>\n",
       "      <td>C/ Sant Climent, 12</td>\n",
       "      <td>Carrer d'En Sant Climent, 12, 08001 Barcelona,...</td>\n",
       "      <td>09:15</td>\n",
       "      <td>️ Veines Raval</td>\n",
       "      <td>41.378777</td>\n",
       "      <td>2.165289</td>\n",
       "    </tr>\n",
       "    <tr>\n",
       "      <th>4</th>\n",
       "      <td>08/02/2018</td>\n",
       "      <td>C/ Rasos de Peguera 70 i 90</td>\n",
       "      <td>Av. dels Rasos de Peguera, 70, 08033 Barcelona...</td>\n",
       "      <td>09:00</td>\n",
       "      <td>️ AAVV Ciutat Meridiana</td>\n",
       "      <td>41.459945</td>\n",
       "      <td>2.176150</td>\n",
       "    </tr>\n",
       "  </tbody>\n",
       "</table>\n",
       "</div>"
      ],
      "text/plain": [
       "         Data                                     Adreça  \\\n",
       "0  01/02/2018       Av. Catalunya 104 – 106 <M> Torrassa   \n",
       "1  05/02/2018  Carrer del Dr. Giné i Partagàs 53, baixos   \n",
       "2  08/02/2018                           C/ Roviralta, 15   \n",
       "3  15/02/2018                        C/ Sant Climent, 12   \n",
       "4  08/02/2018                C/ Rasos de Peguera 70 i 90   \n",
       "\n",
       "                                          Adreça geo   Hora  \\\n",
       "0  Av. de Catalunya, 104, 08930 Sant Adrià de Bes...  10:30   \n",
       "1  Carrer del Dr. Giné i Partagàs, 53, 08003 Barc...  10:00   \n",
       "2  Carrer de Teodor Roviralta, 15, 08022 Barcelon...  11:30   \n",
       "3  Carrer d'En Sant Climent, 12, 08001 Barcelona,...  09:15   \n",
       "4  Av. dels Rasos de Peguera, 70, 08033 Barcelona...  09:00   \n",
       "\n",
       "                                 Entitat   Latitude  Longitude  \n",
       "0                Grup Habitatge de Sants  41.428520   2.222300  \n",
       "1  Comissió de Vivenda de la Barceloneta  41.379854   2.190971  \n",
       "2                           PAH Gramenet  41.413080   2.133760  \n",
       "3                         ️ Veines Raval  41.378777   2.165289  \n",
       "4                ️ AAVV Ciutat Meridiana  41.459945   2.176150  "
      ]
     },
     "execution_count": 19,
     "metadata": {},
     "output_type": "execute_result"
    }
   ],
   "source": [
    "desn_BCN_raw.head()"
   ]
  },
  {
   "cell_type": "code",
   "execution_count": 22,
   "metadata": {},
   "outputs": [
    {
     "data": {
      "text/plain": [
       "(828, 7)"
      ]
     },
     "execution_count": 22,
     "metadata": {},
     "output_type": "execute_result"
    }
   ],
   "source": [
    "desn_BCN_raw.shape"
   ]
  },
  {
   "cell_type": "markdown",
   "metadata": {},
   "source": [
    "### Merged  `csv` file"
   ]
  },
  {
   "cell_type": "code",
   "execution_count": 20,
   "metadata": {},
   "outputs": [],
   "source": [
    "desn_merged_raw = pd.read_csv(files[3])"
   ]
  },
  {
   "cell_type": "code",
   "execution_count": 21,
   "metadata": {},
   "outputs": [
    {
     "data": {
      "text/html": [
       "<div>\n",
       "<style scoped>\n",
       "    .dataframe tbody tr th:only-of-type {\n",
       "        vertical-align: middle;\n",
       "    }\n",
       "\n",
       "    .dataframe tbody tr th {\n",
       "        vertical-align: top;\n",
       "    }\n",
       "\n",
       "    .dataframe thead th {\n",
       "        text-align: right;\n",
       "    }\n",
       "</style>\n",
       "<table border=\"1\" class=\"dataframe\">\n",
       "  <thead>\n",
       "    <tr style=\"text-align: right;\">\n",
       "      <th></th>\n",
       "      <th>Data</th>\n",
       "      <th>Adreça</th>\n",
       "      <th>Adreça geo</th>\n",
       "      <th>Hora</th>\n",
       "      <th>Entitat</th>\n",
       "      <th>Latitude</th>\n",
       "      <th>Longitude</th>\n",
       "      <th>data</th>\n",
       "      <th>direccio</th>\n",
       "      <th>direccio geo</th>\n",
       "      <th>demandant</th>\n",
       "      <th>resolucio</th>\n",
       "      <th>hashtag</th>\n",
       "      <th>rao</th>\n",
       "      <th>latitude</th>\n",
       "      <th>longitude</th>\n",
       "      <th>match</th>\n",
       "    </tr>\n",
       "  </thead>\n",
       "  <tbody>\n",
       "    <tr>\n",
       "      <th>0</th>\n",
       "      <td>10/01/2018</td>\n",
       "      <td>NaN</td>\n",
       "      <td>NaN</td>\n",
       "      <td>NaN</td>\n",
       "      <td>NaN</td>\n",
       "      <td>NaN</td>\n",
       "      <td>NaN</td>\n",
       "      <td>10/1/2018</td>\n",
       "      <td>C/ Sant Crist, 61, entlº 1ª de Barcelona (08018)</td>\n",
       "      <td>Carrer del Sant Crist, 61, 1ª, 08014 Barcelona...</td>\n",
       "      <td>Inmb.</td>\n",
       "      <td>SUSPÈS</td>\n",
       "      <td>#SoluciónParaAmina</td>\n",
       "      <td>Desnonaments per lloguer</td>\n",
       "      <td>41.374316</td>\n",
       "      <td>2.137593</td>\n",
       "      <td>NaN</td>\n",
       "    </tr>\n",
       "    <tr>\n",
       "      <th>1</th>\n",
       "      <td>10/01/2018</td>\n",
       "      <td>NaN</td>\n",
       "      <td>NaN</td>\n",
       "      <td>NaN</td>\n",
       "      <td>NaN</td>\n",
       "      <td>NaN</td>\n",
       "      <td>NaN</td>\n",
       "      <td>10/1/2018</td>\n",
       "      <td>C/ de París, 146</td>\n",
       "      <td>NaN</td>\n",
       "      <td>Inmb.</td>\n",
       "      <td>DESCONVOCAT</td>\n",
       "      <td>#SoluciónParaWenderson</td>\n",
       "      <td>Desnonaments per lloguer</td>\n",
       "      <td>NaN</td>\n",
       "      <td>NaN</td>\n",
       "      <td>NaN</td>\n",
       "    </tr>\n",
       "    <tr>\n",
       "      <th>2</th>\n",
       "      <td>26/01/2018</td>\n",
       "      <td>NaN</td>\n",
       "      <td>NaN</td>\n",
       "      <td>NaN</td>\n",
       "      <td>NaN</td>\n",
       "      <td>NaN</td>\n",
       "      <td>NaN</td>\n",
       "      <td>26/1/2018</td>\n",
       "      <td>Gran Vía de les Corts Catalanes, 149 – 151, 3º...</td>\n",
       "      <td>Gran Via de les Corts Catalanes, 149, 08014 Ba...</td>\n",
       "      <td>HIPOCAT 7 FTA</td>\n",
       "      <td>SUSPÈS</td>\n",
       "      <td>#BonifacioSeQueda</td>\n",
       "      <td>Desnonaments per hipoteca</td>\n",
       "      <td>41.366264</td>\n",
       "      <td>2.137038</td>\n",
       "      <td>NaN</td>\n",
       "    </tr>\n",
       "    <tr>\n",
       "      <th>3</th>\n",
       "      <td>30/01/2018</td>\n",
       "      <td>NaN</td>\n",
       "      <td>NaN</td>\n",
       "      <td>NaN</td>\n",
       "      <td>NaN</td>\n",
       "      <td>NaN</td>\n",
       "      <td>NaN</td>\n",
       "      <td>30/1/2018</td>\n",
       "      <td>C/ Sant Antoni dels Sobrerets, 1 de Barcelona ...</td>\n",
       "      <td>Carrer de Sant Antoni dels Sombrerers, 1, 0800...</td>\n",
       "      <td>Inmb.</td>\n",
       "      <td>ATURAT en porta</td>\n",
       "      <td>#SoluciónParaSaadia</td>\n",
       "      <td>Desnonaments per lloguer</td>\n",
       "      <td>41.384087</td>\n",
       "      <td>2.181626</td>\n",
       "      <td>NaN</td>\n",
       "    </tr>\n",
       "    <tr>\n",
       "      <th>4</th>\n",
       "      <td>01/02/2018</td>\n",
       "      <td>Av. Catalunya 104 – 106 &lt;M&gt; Torrassa</td>\n",
       "      <td>Av. de Catalunya, 104, 08930 Sant Adrià de Bes...</td>\n",
       "      <td>10:30</td>\n",
       "      <td>Grup Habitatge de Sants</td>\n",
       "      <td>41.42852</td>\n",
       "      <td>2.2223</td>\n",
       "      <td>NaN</td>\n",
       "      <td>NaN</td>\n",
       "      <td>NaN</td>\n",
       "      <td>NaN</td>\n",
       "      <td>NaN</td>\n",
       "      <td>NaN</td>\n",
       "      <td>NaN</td>\n",
       "      <td>NaN</td>\n",
       "      <td>NaN</td>\n",
       "      <td>NaN</td>\n",
       "    </tr>\n",
       "  </tbody>\n",
       "</table>\n",
       "</div>"
      ],
      "text/plain": [
       "         Data                                Adreça  \\\n",
       "0  10/01/2018                                   NaN   \n",
       "1  10/01/2018                                   NaN   \n",
       "2  26/01/2018                                   NaN   \n",
       "3  30/01/2018                                   NaN   \n",
       "4  01/02/2018  Av. Catalunya 104 – 106 <M> Torrassa   \n",
       "\n",
       "                                          Adreça geo   Hora  \\\n",
       "0                                                NaN    NaN   \n",
       "1                                                NaN    NaN   \n",
       "2                                                NaN    NaN   \n",
       "3                                                NaN    NaN   \n",
       "4  Av. de Catalunya, 104, 08930 Sant Adrià de Bes...  10:30   \n",
       "\n",
       "                   Entitat  Latitude  Longitude       data  \\\n",
       "0                      NaN       NaN        NaN  10/1/2018   \n",
       "1                      NaN       NaN        NaN  10/1/2018   \n",
       "2                      NaN       NaN        NaN  26/1/2018   \n",
       "3                      NaN       NaN        NaN  30/1/2018   \n",
       "4  Grup Habitatge de Sants  41.42852     2.2223        NaN   \n",
       "\n",
       "                                            direccio  \\\n",
       "0   C/ Sant Crist, 61, entlº 1ª de Barcelona (08018)   \n",
       "1                                   C/ de París, 146   \n",
       "2  Gran Vía de les Corts Catalanes, 149 – 151, 3º...   \n",
       "3  C/ Sant Antoni dels Sobrerets, 1 de Barcelona ...   \n",
       "4                                                NaN   \n",
       "\n",
       "                                        direccio geo      demandant  \\\n",
       "0  Carrer del Sant Crist, 61, 1ª, 08014 Barcelona...          Inmb.   \n",
       "1                                                NaN          Inmb.   \n",
       "2  Gran Via de les Corts Catalanes, 149, 08014 Ba...  HIPOCAT 7 FTA   \n",
       "3  Carrer de Sant Antoni dels Sombrerers, 1, 0800...          Inmb.   \n",
       "4                                                NaN            NaN   \n",
       "\n",
       "         resolucio                 hashtag                        rao  \\\n",
       "0           SUSPÈS      #SoluciónParaAmina   Desnonaments per lloguer   \n",
       "1      DESCONVOCAT  #SoluciónParaWenderson   Desnonaments per lloguer   \n",
       "2           SUSPÈS       #BonifacioSeQueda  Desnonaments per hipoteca   \n",
       "3  ATURAT en porta     #SoluciónParaSaadia   Desnonaments per lloguer   \n",
       "4              NaN                     NaN                        NaN   \n",
       "\n",
       "    latitude  longitude match  \n",
       "0  41.374316   2.137593   NaN  \n",
       "1        NaN        NaN   NaN  \n",
       "2  41.366264   2.137038   NaN  \n",
       "3  41.384087   2.181626   NaN  \n",
       "4        NaN        NaN   NaN  "
      ]
     },
     "execution_count": 21,
     "metadata": {},
     "output_type": "execute_result"
    }
   ],
   "source": [
    "desn_merged_raw.head()"
   ]
  },
  {
   "cell_type": "code",
   "execution_count": 24,
   "metadata": {},
   "outputs": [
    {
     "data": {
      "text/plain": [
       "1251"
      ]
     },
     "execution_count": 24,
     "metadata": {},
     "output_type": "execute_result"
    }
   ],
   "source": [
    "423+828"
   ]
  },
  {
   "cell_type": "code",
   "execution_count": 25,
   "metadata": {},
   "outputs": [
    {
     "data": {
      "text/plain": [
       "(1103, 17)"
      ]
     },
     "execution_count": 25,
     "metadata": {},
     "output_type": "execute_result"
    }
   ],
   "source": [
    "desn_merged_raw.shape"
   ]
  },
  {
   "cell_type": "markdown",
   "metadata": {},
   "source": [
    "### Missing values\n",
    "\n",
    "- What's the meaning of the `match` column? "
   ]
  },
  {
   "cell_type": "markdown",
   "metadata": {},
   "source": [
    "### Displaying results"
   ]
  },
  {
   "cell_type": "code",
   "execution_count": 43,
   "metadata": {},
   "outputs": [
    {
     "data": {
      "text/html": [
       "<div style=\"width:100%;\"><div style=\"position:relative;width:100%;height:0;padding-bottom:60%;\"><iframe src=\"data:text/html;charset=utf-8;base64,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\" style=\"position:absolute;width:100%;height:100%;left:0;top:0;border:none !important;\" allowfullscreen webkitallowfullscreen mozallowfullscreen></iframe></div></div>"
      ],
      "text/plain": [
       "<folium.folium.Map at 0x7f7b03d933c8>"
      ]
     },
     "metadata": {},
     "output_type": "display_data"
    }
   ],
   "source": [
    "import folium\n",
    "\n",
    " \n",
    "BCN_COORDINATES = (41.39, 2.15)\n",
    " \n",
    "# for speed purposes\n",
    "MAX_RECORDS = 100\n",
    "  \n",
    "# create empty map zoomed in on San Francisco\n",
    "map_bcn = folium.Map(location=BCN_COORDINATES, zoom_start=12)\n",
    " \n",
    "# add a marker for every record in the filtered data, use a clustered view\n",
    "for desn in desn_BCN_raw[0:MAX_RECORDS].iterrows():\n",
    "    folium.Marker([desn[1]['Latitude'],desn[1]['Longitude']] ).add_to(map_bcn)\n",
    "    \n",
    "#      map_bcn.simple_marker(\n",
    "#          location = [desn[1]['Latitude'],each[1]['Longitude']], \n",
    "#          clustered_marker = True)\n",
    "\n",
    "  \n",
    "display(map_bcn)\n",
    "\n"
   ]
  },
  {
   "cell_type": "markdown",
   "metadata": {},
   "source": [
    "Cal treure els NaNs, com els tractem? Hi ha a més a més dues columnes que son iguals al merged. Cal anar amb compte, info duplicada. important!! "
   ]
  },
  {
   "cell_type": "code",
   "execution_count": null,
   "metadata": {},
   "outputs": [],
   "source": []
  }
 ],
 "metadata": {
  "kernelspec": {
   "display_name": "Python 3",
   "language": "python",
   "name": "python3"
  },
  "language_info": {
   "codemirror_mode": {
    "name": "ipython",
    "version": 3
   },
   "file_extension": ".py",
   "mimetype": "text/x-python",
   "name": "python",
   "nbconvert_exporter": "python",
   "pygments_lexer": "ipython3",
   "version": "3.7.3"
  }
 },
 "nbformat": 4,
 "nbformat_minor": 2
}
